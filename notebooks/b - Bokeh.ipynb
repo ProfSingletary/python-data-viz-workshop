{
 "cells": [
  {
   "cell_type": "markdown",
   "id": "dfb8fd91",
   "metadata": {},
   "source": [
    "# Bokeh\n",
    "- Bokeh is a Python library for creating interactive visualizations for web browsers. \n",
    "- It is optimized for working with large data sets or streaming datasets.\n",
    "- JavaScript-powered visualizations are generated without writing any JavaScript.\n",
    "- Several built-in tools are provided for interaction with charts\n",
    "- Bokeh automatically generates necessary JavaScript and HTML from the Python code.\n",
    "- Any additional JavaScript code is automatically loaded from Bokeh’s CDN (content delivery network)\n"
   ]
  },
  {
   "cell_type": "markdown",
   "id": "407d426a",
   "metadata": {},
   "source": [
    "# Boken Scene Graphs and Models\n",
    "- Bokeh creates a **scene graph** that encompasses all the visual and data aspects of the scene \n",
    "- The scene graph is serialized (converted to binary) so the BokehJS library can render (display) the plot. \n",
    "- A renderer is a tool used to render the glyphs (graphical elements)\n",
    "- The low-level objects that comprise a Bokeh scene graph are called **models**.\n",
    "- Models are accumulated into document instances which can be sent to a browser for display.\n"
   ]
  },
  {
   "cell_type": "code",
   "execution_count": 1,
   "id": "5438b3c2",
   "metadata": {},
   "outputs": [],
   "source": [
    "# Bokeh Sample\n",
    "# create a line chart\n",
    "\n",
    "# Import the necessary functions from the bokeh.plotting module\n",
    "from bokeh.plotting import figure, show\n",
    "\n",
    "# prepare some data\n",
    "x = [1, 2, 3, 4, 5]\n",
    "y = [6, 7, 2, 4, 5]\n",
    "\n",
    "# create a new plot with a title and axis labels\n",
    "p = figure(title=\"Simple line example\", x_axis_label=\"x\", y_axis_label=\"y\")\n",
    "\n",
    "# add a line renderer with legend and line thickness\n",
    "p.line(x, y, legend_label=\"Temp.\", line_width=2)\n",
    "\n",
    "# show the results\n",
    "show(p)"
   ]
  },
  {
   "cell_type": "code",
   "execution_count": 2,
   "id": "ecf05457",
   "metadata": {},
   "outputs": [],
   "source": [
    "# Bokeh Sample 2\n",
    "# multiple lines\n",
    "\n",
    "# prepare some data\n",
    "x = [1, 2, 3, 4, 5]\n",
    "y1 = [6, 7, 2, 4, 5]\n",
    "y2 = [2, 3, 4, 5, 6]\n",
    "y3 = [4, 5, 5, 7, 2]\n",
    "\n",
    "# create a new plot with a title and axis labels\n",
    "p = figure(title=\"Multiple line example\", x_axis_label=\"x\", y_axis_label=\"y\")\n",
    "\n",
    "# add multiple renderers\n",
    "p.line(x, y1, legend_label=\"Temp.\", line_color=\"blue\", line_width=2)\n",
    "p.line(x, y2, legend_label=\"Rate\", line_color=\"red\", line_width=2)\n",
    "p.line(x, y3, legend_label=\"Objects\", line_color=\"green\", line_width=2)\n",
    "\n",
    "# show the results\n",
    "show(p)\n"
   ]
  },
  {
   "cell_type": "code",
   "execution_count": 4,
   "id": "52ce23a6",
   "metadata": {},
   "outputs": [],
   "source": [
    "# Bokeh Sample 3\n",
    "# circles\n",
    "\n",
    "# prepare some data\n",
    "x = [1, 2, 3, 4, 5]\n",
    "y1 = [6, 7, 2, 4, 5]\n",
    "y2 = [2, 3, 4, 5, 6]\n",
    "y3 = [4, 5, 5, 7, 2]\n",
    "\n",
    "# create a new plot with a title and axis labels\n",
    "p = figure(title=\"Multiple glyphs example\", x_axis_label=\"x\", y_axis_label=\"y\")\n",
    "\n",
    "# add multiple renderers\n",
    "p.line(x, y1, legend_label=\"Temp.\", color=\"blue\", line_width=2)\n",
    "p.line(x, y2, legend_label=\"Rate\", color=\"red\", line_width=2)\n",
    "p.circle(x, y3, legend_label=\"Objects\", color=\"yellow\", size=12)\n",
    "\n",
    "# show the results\n",
    "show(p)\n"
   ]
  },
  {
   "cell_type": "code",
   "execution_count": 7,
   "id": "8a226beb",
   "metadata": {},
   "outputs": [],
   "source": [
    "# To change an object's properties, save the object to a variable \n",
    "# and set the glyph attribute explicitly.\n",
    "\n",
    "circle = p.circle(\n",
    "    x,\n",
    "    y,\n",
    "    legend_label=\"Objects\",\n",
    "    fill_color=\"red\",\n",
    "    fill_alpha=0.5,\n",
    "    line_color=\"blue\",\n",
    "    size=80,\n",
    "    )\n",
    "# use circle variable to access glyph attribute\n",
    "# change the fill_color property using the glyph reference\n",
    "\n",
    "glyph = circle.glyph\n",
    "glyph.fill_color = \"blue\"\n",
    "\n",
    "# show the results\n",
    "show(p)"
   ]
  },
  {
   "cell_type": "markdown",
   "id": "2db07961",
   "metadata": {},
   "source": [
    "# Legends, Text, and Annotations\n",
    "- Bokeh automatically adds a legend to your plot if you include the legend_label attribute when calling the renderer function. For example:\n",
    "        p.circle(x, y3, legend_label=\"Objects\")\n",
    "- This adds a legend with the entry “Objects” to your plot.\n",
    "- Use the properties of the Legend object to customize the legend."
   ]
  },
  {
   "cell_type": "code",
   "execution_count": 9,
   "id": "e616b1ca",
   "metadata": {},
   "outputs": [],
   "source": [
    "# add circle renderer with legend_label arguments\n",
    "line = p.line(x, y1, legend_label=\"Temp.\", line_color=\"blue\", line_width=2)\n",
    "circle = p.circle(\n",
    "    x,\n",
    "    y2,\n",
    "    legend_label=\"Objects\",\n",
    "    fill_color=\"red\",\n",
    "    fill_alpha=0.5,\n",
    "    line_color=\"blue\",\n",
    "    size=80,\n",
    ")\n",
    "\n",
    "# display legend in top left corner (default is top right corner)\n",
    "p.legend.location = \"top_left\"\n",
    "\n",
    "# add a title to your legend\n",
    "p.legend.title = \"Obervations\"\n",
    "\n",
    "# change appearance of legend text\n",
    "p.legend.label_text_font = \"times\"\n",
    "p.legend.label_text_font_style = \"italic\"\n",
    "p.legend.label_text_color = \"navy\"\n",
    "\n",
    "# change border and background of legend\n",
    "p.legend.border_line_width = 3\n",
    "p.legend.border_line_color = \"navy\"\n",
    "p.legend.border_line_alpha = 0.8\n",
    "p.legend.background_fill_color = \"navy\"\n",
    "p.legend.background_fill_alpha = 0.2\n",
    "\n",
    "show(p)"
   ]
  },
  {
   "cell_type": "code",
   "execution_count": null,
   "id": "4f779428",
   "metadata": {},
   "outputs": [],
   "source": []
  }
 ],
 "metadata": {
  "kernelspec": {
   "display_name": "Python 3",
   "language": "python",
   "name": "python3"
  },
  "language_info": {
   "codemirror_mode": {
    "name": "ipython",
    "version": 3
   },
   "file_extension": ".py",
   "mimetype": "text/x-python",
   "name": "python",
   "nbconvert_exporter": "python",
   "pygments_lexer": "ipython3",
   "version": "3.9.1"
  }
 },
 "nbformat": 4,
 "nbformat_minor": 5
}
