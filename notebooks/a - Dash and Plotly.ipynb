{
 "cells": [
  {
   "cell_type": "markdown",
   "id": "37506cee",
   "metadata": {},
   "source": [
    "# Python Tools for Dashboards\n",
    "- There are several choice for building dashboards using Python\n",
    "    - Most Python dashboard tools comply with **WSGI** (Web Server Gateway Interface, pronounced \"whiskey\").\n",
    "    - WSGI is a simple calling convention for web servers to forward requests to web applications or frameworks written in Python (PEP-333)\n",
    "- **Django** is a Python-based free and open-source web framework which supports complex, database-driven websites\n",
    "- **Flask** is a micro-framework primarily aimed at small applications with simpler requirements\n",
    "- **Dash** integrates **Plotly**, a popular visualization library\n"
   ]
  },
  {
   "cell_type": "markdown",
   "id": "ec05fff9",
   "metadata": {},
   "source": [
    "# Dash and Plotly\n",
    "- Use pip To install dash (and plotly):\n",
    "          pip install dash\n",
    "- Pandas is commonly used to provide supporting data structures for Plotly:\n",
    "          pip install pandas\n"
   ]
  },
  {
   "cell_type": "markdown",
   "id": "732e5ff8",
   "metadata": {},
   "source": [
    "# Building Dashboards with Plotly and Dash\n",
    "- Dash apps are composed of two parts\n",
    "    - The first part specifies the layout of the application\n",
    "     - The second part describes the interactivity of the application\n",
    "- Create a new Python source file and start with the import statements"
   ]
  },
  {
   "cell_type": "markdown",
   "id": "33e5262a",
   "metadata": {},
   "source": [
    "# Note: Copy and paste the following into IDLE, it will not run in Jupyter"
   ]
  },
  {
   "cell_type": "code",
   "execution_count": null,
   "id": "5944e3c7",
   "metadata": {},
   "outputs": [],
   "source": [
    "# dashapp.py\n",
    "# simple dash/plotly dashboard app\n",
    "\n",
    "import dash\n",
    "from dash import dcc\n",
    "import dash_core_components as dcc\n",
    "from dash import html\n",
    "import dash_html_components as html\n",
    "import plotly.express as px\n",
    "import pandas as pd\n",
    "\n",
    "print(dcc.__version__)\n",
    "print(pd.__version__)\n",
    "\n",
    "# Construct an application object and build a simple bar chart\n",
    "\n",
    "app = dash.Dash(__name__)\n",
    "\n",
    "# create a pandas dataframe and visualize with a bar chart\n",
    "df = pd.DataFrame({\n",
    "    \"Fruit\": [\"Apples\", \"Oranges\", \"Bananas\", \"Apples\", \n",
    "              \"Oranges\", \"Bananas\"],\n",
    "    \"Amount\": [4, 1, 2, 2, 4, 5],\n",
    "    \"City\": [\"SF\", \"SF\", \"SF\", \"Montreal\",\n",
    "             \"Montreal\", \"Montreal\"]\n",
    "})\n",
    "\n",
    "fig = px.bar(df, x=\"Fruit\", y=\"Amount\",\n",
    "             color=\"City\", barmode=\"group\")\n",
    "\n",
    "# create the layout with an HTML section (div)\n",
    "\n",
    "app.layout = html.Div(children=[\n",
    "    html.H1(children='Hello Dash'),\n",
    "\n",
    "    html.Div(children='''\n",
    "        Dash: A web application framework for your data.\n",
    "    '''),\n",
    "\n",
    "    # dcc: dash core components\n",
    "    dcc.Graph(\n",
    "        id='example-graph',\n",
    "        figure=fig\n",
    "    )\n",
    "])\n",
    "\n",
    "# run the app server\n",
    "# (debug=True toggles various diagnostic tools, not intended for production use)\n",
    "\n",
    "if __name__ == '__main__':\n",
    "    app.run_server(debug=True)"
   ]
  },
  {
   "cell_type": "markdown",
   "id": "8418939b",
   "metadata": {},
   "source": [
    "- The layout is composed of a tree of \"components\" such as html.Div and dcc.Graph\n",
    "- The dash_html_components function has a component for every HTML tag. \n",
    "    - The html.H1(children='Hello Dash') component generates a header (h1) HTML element\n",
    "- Not all components are pure HTML\n",
    "    - Some dash_core_components are higher-level components that are interactive and are generated with JavaScript, HTML, and CSS through the React.js library\n",
    "- The children property is always the first attribute but it can be omitted, e.g.\n",
    "        html.H1(children='Hello Dash') \n",
    "  is the same as \n",
    "        html.H1('Hello Dash')\n",
    "- The fonts can be modified using a custom CSS stylesheet"
   ]
  },
  {
   "cell_type": "code",
   "execution_count": null,
   "id": "88d79cb7",
   "metadata": {},
   "outputs": [],
   "source": []
  }
 ],
 "metadata": {
  "kernelspec": {
   "display_name": "Python 3",
   "language": "python",
   "name": "python3"
  },
  "language_info": {
   "codemirror_mode": {
    "name": "ipython",
    "version": 3
   },
   "file_extension": ".py",
   "mimetype": "text/x-python",
   "name": "python",
   "nbconvert_exporter": "python",
   "pygments_lexer": "ipython3",
   "version": "3.9.1"
  }
 },
 "nbformat": 4,
 "nbformat_minor": 5
}
